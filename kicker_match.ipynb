{
 "cells": [
  {
   "cell_type": "code",
   "execution_count": 1,
   "metadata": {},
   "outputs": [],
   "source": [
    "import pandas as pd\n",
    "import random\n",
    "import matplotlib.pyplot as plt\n",
    "\n",
    "random.seed(20200214)"
   ]
  },
  {
   "cell_type": "code",
   "execution_count": 2,
   "metadata": {},
   "outputs": [],
   "source": [
    "player_names = [\"Ömur\", \n",
    "                \"Zak\", \n",
    "                \"Andrey\", \n",
    "                \"Congyu\", \n",
    "                \"Fatih\", \n",
    "                \"Pavle\", \n",
    "                \"Christian\", \n",
    "                \"Ganesh\",\n",
    "                \"Aurelien\",\n",
    "                \"Marco\"]\n",
    "\n",
    "player_names = sorted(player_names)"
   ]
  },
  {
   "cell_type": "code",
   "execution_count": 3,
   "metadata": {},
   "outputs": [],
   "source": [
    "class Player:\n",
    "    def __init__(self, name, points):\n",
    "        self.name = name\n",
    "        self.points = points\n",
    "\n",
    "class Team:\n",
    "\n",
    "    def __init__(self, name, players):\n",
    "        self.name = name\n",
    "        self.players = players\n",
    "\n",
    "    def __str__(self):\n",
    "        return \"Team {name} \\t({p1} and {p2})\".format(name=self.name, \n",
    "                                                    p1=self.players[0].name,\n",
    "                                                    p2=self.players[1].name)\n",
    "    def scoring_dict(self, points):\n",
    "        return {self.players[0].name: points, self.players[1].name: points}\n",
    "\n",
    "class Match:\n",
    "\n",
    "    def __init__(self, team1, team2):\n",
    "        self.team1 = team1\n",
    "        self.team2 = team2\n",
    "        \n",
    "    def __str__(self):\n",
    "        return \"{} \\t vs \\t {}\".format(self.team1, self.team2)\n",
    "\n",
    "    def demonstrate(self):\n",
    "        print(str(self))\n",
    "        \n",
    "    def accept(self, record):\n",
    "        for team_name in record.team_names:\n",
    "            if team_name not in [self.team1.name, self.team2.name]:\n",
    "                return False\n",
    "        return True\n",
    "        \n",
    "\n",
    "class Record:\n",
    "    \n",
    "    def __init__(self, team_names, scores):\n",
    "        \"\"\"\n",
    "        \n",
    "        :param: String, eg. \"tiger:bat\"\n",
    "        :param: String, eg. \"8:10\"\n",
    "        \"\"\"\n",
    "        \n",
    "        self.team_names = team_names.split(\":\")\n",
    "        self.scores = [int(score) for score in scores.split(\":\")]\n",
    "    \n",
    "    def pointsboard(self, teams):\n",
    "        \n",
    "        pointsboard = {}\n",
    "        for i in range(len(self.team_names)):\n",
    "            notify_teams = [team for team in teams if team.name == self.team_names[i]]\n",
    "            for team in notify_teams:\n",
    "                pointsboard.update(team.scoring_dict(self.scores[i]))\n",
    "        return pointsboard\n",
    "\n",
    "class Season:\n",
    "              \n",
    "    team_names = [\"bat\", \"elephant\", \"bear\", \"dolphin\", \"camel\", \"tiger\", \"snake\", \"lion\", \"panda\"]\n",
    "\n",
    "    def __init__(self, names):\n",
    "        self.players = [Player(name, 0) for name in names]\n",
    "        self.records = []\n",
    "        self.matches = []\n",
    "        self.finished_matches = []\n",
    "        \n",
    "        self.generate_teams()  # warning! this will shuffle the players and resign team names\n",
    "        self.generate_matches()\n",
    "    \n",
    "    def generate_teams(self):\n",
    "        random.shuffle(self.team_names)\n",
    "        random.shuffle(self.players)\n",
    "        \n",
    "        teams = []\n",
    "        for i, (p1, p2) in enumerate(self._generate_tuples(self.players)):\n",
    "            teams.append(Team(self.team_names[i], [p1, p2]))\n",
    "                \n",
    "        self.teams = teams\n",
    "        \n",
    "    def generate_matches(self):\n",
    "        self.matches = [Match(*team_tuple) for team_tuple in self._generate_wheel_war(self.teams)]\n",
    "\n",
    "    def show_matches(self):\n",
    "        for match in self.matches:\n",
    "            match.demonstrate()\n",
    "            \n",
    "    def show_remain_matches(self):\n",
    "        for match in self.remain_matches:\n",
    "            match.demonstrate()\n",
    "    \n",
    "    def add_record(self, record):\n",
    "        \"\"\"\n",
    "        \n",
    "        :param: record: Record\n",
    "        \"\"\"\n",
    "        for match in self.matches:\n",
    "            if match.accept(record):\n",
    "                self.finished_matches.append(match)\n",
    "                self.records.append(record)\n",
    "                break\n",
    "    \n",
    "    @property\n",
    "    def remain_matches(self):\n",
    "        return [match for match in self.matches if str(match) not in [str(match) for match in self.finished_matches]]\n",
    "    \n",
    "    \n",
    "    def load_points_from_pointsboard(self, pointsboard):\n",
    "        \"\"\"\n",
    "        \n",
    "        pointsboard: dict: {player_name: points}\n",
    "        \"\"\"\n",
    "        \n",
    "        for player in self.players:\n",
    "            if player.name in pointsboard:\n",
    "                player.points += pointsboard[player.name] \n",
    "    \n",
    "    def load_points_from_records(self):\n",
    "        for record in self.records:\n",
    "            self.load_points_from_pointsboard(record.pointsboard(self.teams))\n",
    "    \n",
    "    @property\n",
    "    def pointsboard(self):\n",
    "        pointsboard = {}\n",
    "        for player in self.players:\n",
    "            pointsboard.update({player.name: player.points})\n",
    "        return pointsboard\n",
    "    \n",
    "    def show_pointsboard(self):\n",
    "        \n",
    "        self.load_points_from_records()\n",
    "        \n",
    "        pb = self.pointsboard\n",
    "        df = pd.DataFrame({\n",
    "            \"player\": list(pb.keys()), \n",
    "            \"KC-points\": list(pb.values())\n",
    "        })\n",
    "        df = df.sort_values(by=[\"KC-points\"])\n",
    "        df.plot.barh(x=\"player\", y=\"KC-points\")\n",
    "        plt.show()\n",
    "        \n",
    "    @staticmethod\n",
    "    def _generate_tuples(items):\n",
    "        left = items[0:int(len(items)/2)]\n",
    "        right = items[int(len(items)/2):]\n",
    "        return [(item_left, item_right) for item_left, item_right in zip(left, right)]\n",
    "    \n",
    "    @staticmethod\n",
    "    def _generate_wheel_war(items):\n",
    "        return [(items[i-1], items[i]) for i in range(len(items))]\n",
    "    \n",
    "    def switch_members(self):\n",
    "        \n",
    "        fix_index = [random.randint(0, 1) for i in range(len(self.teams))]\n",
    "        fixed_players = [team.players[fix_index[i]] for i, team in enumerate(self.teams)]\n",
    "        switch_players = [team.players[1-fix_index[i]] for i, team in enumerate(self.teams)]\n",
    "        switched_players = [switch_players[n-2] for n in range(len(switch_players))]\n",
    "                            \n",
    "        teams = []\n",
    "        for i, (p1, p2) in enumerate(zip(fixed_players, switched_players)):\n",
    "            teams.append(Team(self.team_names[i], [p1, p2]))\n",
    "        \n",
    "        s = Season([p.name for p in self.players])\n",
    "        s.teams = teams\n",
    "        s.generate_matches()\n",
    "        return s"
   ]
  },
  {
   "cell_type": "code",
   "execution_count": 4,
   "metadata": {},
   "outputs": [
    {
     "name": "stdout",
     "output_type": "stream",
     "text": [
      "Team tiger \t(Aurelien and Fatih) \t vs \t Team bear \t(Congyu and Andrey)\n",
      "Team bear \t(Congyu and Andrey) \t vs \t Team snake \t(Ganesh and Christian)\n",
      "Team snake \t(Ganesh and Christian) \t vs \t Team dolphin \t(Marco and Zak)\n",
      "Team dolphin \t(Marco and Zak) \t vs \t Team camel \t(Pavle and Ömur)\n",
      "Team camel \t(Pavle and Ömur) \t vs \t Team tiger \t(Aurelien and Fatih)\n"
     ]
    }
   ],
   "source": [
    "s = Season(player_names)\n",
    "s.show_matches()"
   ]
  },
  {
   "cell_type": "code",
   "execution_count": 5,
   "metadata": {},
   "outputs": [],
   "source": [
    "s.add_record(Record(\"tiger:bear\", \"8:10\"))\n",
    "s.add_record(Record(\"bear:snake\", \"7:10\"))\n",
    "s.add_record(Record(\"snake:dolphin\", \"10:8\"))\n",
    "s.add_record(Record(\"dolphin:camel\", \"10:2\"))\n",
    "s.add_record(Record(\"camel:tiger\", \"10:7\"))"
   ]
  },
  {
   "cell_type": "code",
   "execution_count": 6,
   "metadata": {},
   "outputs": [
    {
     "data": {
      "image/png": "[encoded data removed]",
      "text/plain": [
       "<Figure size 432x288 with 1 Axes>"
      ]
     },
     "metadata": {
      "needs_background": "light"
     },
     "output_type": "display_data"
    }
   ],
   "source": [
    "s.show_pointsboard()"
   ]
  },
  {
   "cell_type": "code",
   "execution_count": 7,
   "metadata": {},
   "outputs": [],
   "source": [
    "s.show_remain_matches()"
   ]
  },
  {
   "cell_type": "code",
   "execution_count": 8,
   "metadata": {},
   "outputs": [],
   "source": [
    "pointsboard_last_season = s.pointsboard"
   ]
  },
  {
   "cell_type": "code",
   "execution_count": 9,
   "metadata": {},
   "outputs": [
    {
     "data": {
      "text/plain": [
       "{'Congyu': 17,\n",
       " 'Ganesh': 20,\n",
       " 'Marco': 18,\n",
       " 'Pavle': 12,\n",
       " 'Aurelien': 15,\n",
       " 'Andrey': 17,\n",
       " 'Christian': 20,\n",
       " 'Zak': 18,\n",
       " 'Ömur': 12,\n",
       " 'Fatih': 15}"
      ]
     },
     "execution_count": 9,
     "metadata": {},
     "output_type": "execute_result"
    }
   ],
   "source": [
    "pointsboard_last_season"
   ]
  },
  {
   "cell_type": "markdown",
   "metadata": {},
   "source": [
    "# Season 2"
   ]
  },
  {
   "cell_type": "code",
   "execution_count": 10,
   "metadata": {},
   "outputs": [],
   "source": [
    "# s2 = Season(player_names)\n",
    "\n",
    "# s2.load_points_from_pointsboard(pointsboard_last_season)\n",
    "\n",
    "# s2.show_pointsboard()"
   ]
  },
  {
   "cell_type": "code",
   "execution_count": 11,
   "metadata": {},
   "outputs": [],
   "source": [
    "s2 = s.switch_members()"
   ]
  },
  {
   "cell_type": "code",
   "execution_count": 12,
   "metadata": {},
   "outputs": [
    {
     "name": "stdout",
     "output_type": "stream",
     "text": [
      "Team tiger \t(Aurelien and Zak) \t vs \t Team bear \t(Andrey and Ömur)\n",
      "Team bear \t(Andrey and Ömur) \t vs \t Team snake \t(Christian and Fatih)\n",
      "Team snake \t(Christian and Fatih) \t vs \t Team dolphin \t(Marco and Congyu)\n",
      "Team dolphin \t(Marco and Congyu) \t vs \t Team camel \t(Pavle and Ganesh)\n",
      "Team camel \t(Pavle and Ganesh) \t vs \t Team tiger \t(Aurelien and Zak)\n"
     ]
    }
   ],
   "source": [
    "s2.show_matches()"
   ]
  },
  {
   "cell_type": "code",
   "execution_count": null,
   "metadata": {},
   "outputs": [],
   "source": []
  }
 ],
 "metadata": {
  "kernelspec": {
   "display_name": "congyuml",
   "language": "python",
   "name": "congyuml"
  },
  "language_info": {
   "codemirror_mode": {
    "name": "ipython",
    "version": 3
   },
   "file_extension": ".py",
   "mimetype": "text/x-python",
   "name": "python",
   "nbconvert_exporter": "python",
   "pygments_lexer": "ipython3",
   "version": "3.6.8"
  }
 },
 "nbformat": 4,
 "nbformat_minor": 2
}
